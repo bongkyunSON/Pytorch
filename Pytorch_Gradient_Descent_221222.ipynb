{
  "cells": [
    {
      "cell_type": "markdown",
      "metadata": {
        "id": "view-in-github",
        "colab_type": "text"
      },
      "source": [
        "<a href=\"https://colab.research.google.com/github/bongkyunSON/Pytorch/blob/main/Pytorch_Gradient_Descent_221222.ipynb\" target=\"_parent\"><img src=\"https://colab.research.google.com/assets/colab-badge.svg\" alt=\"Open In Colab\"/></a>"
      ]
    },
    {
      "cell_type": "markdown",
      "metadata": {
        "id": "Qchf_DUOCGD8"
      },
      "source": [
        "# Gradient Descent"
      ]
    },
    {
      "cell_type": "code",
      "execution_count": 1,
      "metadata": {
        "id": "E8CC_u4rCGEB"
      },
      "outputs": [],
      "source": [
        "import torch\n",
        "import torch.nn.functional as F"
      ]
    },
    {
      "cell_type": "code",
      "execution_count": 2,
      "metadata": {
        "id": "CSE8qKsGCGEC"
      },
      "outputs": [],
      "source": [
        "target = torch.FloatTensor([[.1, .2, .3],\n",
        "                            [.4, .5, .6],\n",
        "                            [.7, .8, .9]])"
      ]
    },
    {
      "cell_type": "code",
      "execution_count": 3,
      "metadata": {
        "colab": {
          "base_uri": "https://localhost:8080/"
        },
        "id": "EjXHpanHCGED",
        "outputId": "b954d3bd-0fa2-41fc-fd0e-01c80186b016"
      },
      "outputs": [
        {
          "output_type": "execute_result",
          "data": {
            "text/plain": [
              "tensor([[0.1922, 0.8123, 0.5414],\n",
              "        [0.2703, 0.5504, 0.5463],\n",
              "        [0.2826, 0.2221, 0.7209]], requires_grad=True)"
            ]
          },
          "metadata": {},
          "execution_count": 3
        }
      ],
      "source": [
        "x = torch.rand_like(target)\n",
        "# This means the final scalar will be differentiate by x.\n",
        "x.requires_grad = True\n",
        "# You can get gradient of x, after differentiation.\n",
        "\n",
        "x"
      ]
    },
    {
      "cell_type": "code",
      "execution_count": 4,
      "metadata": {
        "colab": {
          "base_uri": "https://localhost:8080/"
        },
        "id": "NkL8MlpqCGEE",
        "outputId": "c91949ec-24d1-49b5-e58b-1142b3bf8299"
      },
      "outputs": [
        {
          "output_type": "execute_result",
          "data": {
            "text/plain": [
              "tensor(0.1116, grad_fn=<MseLossBackward0>)"
            ]
          },
          "metadata": {},
          "execution_count": 4
        }
      ],
      "source": [
        "loss = F.mse_loss(x, target)\n",
        "\n",
        "loss"
      ]
    },
    {
      "cell_type": "code",
      "execution_count": 5,
      "metadata": {
        "scrolled": false,
        "colab": {
          "base_uri": "https://localhost:8080/"
        },
        "id": "hyg3J7RwCGEF",
        "outputId": "da35e0e4-ba98-4917-938f-bbe202513452"
      },
      "outputs": [
        {
          "output_type": "stream",
          "name": "stdout",
          "text": [
            "1-th Loss: 6.7496e-02\n",
            "tensor([[0.1717, 0.6762, 0.4878],\n",
            "        [0.2991, 0.5392, 0.5582],\n",
            "        [0.3754, 0.3505, 0.7607]], requires_grad=True)\n",
            "2-th Loss: 4.0831e-02\n",
            "tensor([[0.1558, 0.5704, 0.4460],\n",
            "        [0.3215, 0.5305, 0.5675],\n",
            "        [0.4475, 0.4504, 0.7917]], requires_grad=True)\n",
            "3-th Loss: 2.4700e-02\n",
            "tensor([[0.1434, 0.4881, 0.4136],\n",
            "        [0.3390, 0.5237, 0.5747],\n",
            "        [0.5036, 0.5281, 0.8157]], requires_grad=True)\n",
            "4-th Loss: 1.4942e-02\n",
            "tensor([[0.1337, 0.4241, 0.3884],\n",
            "        [0.3525, 0.5184, 0.5803],\n",
            "        [0.5473, 0.5885, 0.8345]], requires_grad=True)\n",
            "5-th Loss: 9.0390e-03\n",
            "tensor([[0.1262, 0.3743, 0.3687],\n",
            "        [0.3631, 0.5143, 0.5847],\n",
            "        [0.5812, 0.6355, 0.8490]], requires_grad=True)\n",
            "6-th Loss: 5.4680e-03\n",
            "tensor([[0.1204, 0.3355, 0.3534],\n",
            "        [0.3713, 0.5112, 0.5881],\n",
            "        [0.6076, 0.6721, 0.8604]], requires_grad=True)\n",
            "7-th Loss: 3.3078e-03\n",
            "tensor([[0.1159, 0.3054, 0.3416],\n",
            "        [0.3777, 0.5087, 0.5907],\n",
            "        [0.6281, 0.7005, 0.8692]], requires_grad=True)\n",
            "8-th Loss: 2.0010e-03\n",
            "tensor([[0.1124, 0.2820, 0.3323],\n",
            "        [0.3826, 0.5067, 0.5928],\n",
            "        [0.6441, 0.7226, 0.8760]], requires_grad=True)\n",
            "9-th Loss: 1.2105e-03\n",
            "tensor([[0.1096, 0.2638, 0.3251],\n",
            "        [0.3865, 0.5052, 0.5944],\n",
            "        [0.6565, 0.7398, 0.8813]], requires_grad=True)\n",
            "10-th Loss: 7.3228e-04\n",
            "tensor([[0.1075, 0.2496, 0.3196],\n",
            "        [0.3895, 0.5041, 0.5956],\n",
            "        [0.6662, 0.7532, 0.8855]], requires_grad=True)\n",
            "11-th Loss: 4.4298e-04\n",
            "tensor([[0.1058, 0.2386, 0.3152],\n",
            "        [0.3918, 0.5032, 0.5966],\n",
            "        [0.6737, 0.7636, 0.8887]], requires_grad=True)\n",
            "12-th Loss: 2.6798e-04\n",
            "tensor([[0.1045, 0.2300, 0.3118],\n",
            "        [0.3936, 0.5025, 0.5974],\n",
            "        [0.6795, 0.7717, 0.8912]], requires_grad=True)\n",
            "13-th Loss: 1.6211e-04\n",
            "tensor([[0.1035, 0.2233, 0.3092],\n",
            "        [0.3951, 0.5019, 0.5980],\n",
            "        [0.6841, 0.7780, 0.8932]], requires_grad=True)\n",
            "14-th Loss: 9.8066e-05\n",
            "tensor([[0.1027, 0.2182, 0.3072],\n",
            "        [0.3962, 0.5015, 0.5984],\n",
            "        [0.6876, 0.7829, 0.8947]], requires_grad=True)\n",
            "15-th Loss: 5.9324e-05\n",
            "tensor([[0.1021, 0.2141, 0.3056],\n",
            "        [0.3970, 0.5012, 0.5988],\n",
            "        [0.6904, 0.7867, 0.8959]], requires_grad=True)\n",
            "16-th Loss: 3.5887e-05\n",
            "tensor([[0.1017, 0.2110, 0.3043],\n",
            "        [0.3977, 0.5009, 0.5990],\n",
            "        [0.6925, 0.7896, 0.8968]], requires_grad=True)\n",
            "17-th Loss: 2.1710e-05\n",
            "tensor([[0.1013, 0.2085, 0.3034],\n",
            "        [0.3982, 0.5007, 0.5993],\n",
            "        [0.6942, 0.7919, 0.8975]], requires_grad=True)\n",
            "18-th Loss: 1.3133e-05\n",
            "tensor([[0.1010, 0.2066, 0.3026],\n",
            "        [0.3986, 0.5005, 0.5994],\n",
            "        [0.6955, 0.7937, 0.8981]], requires_grad=True)\n",
            "19-th Loss: 7.9446e-06\n",
            "tensor([[0.1008, 0.2052, 0.3020],\n",
            "        [0.3989, 0.5004, 0.5995],\n",
            "        [0.6965, 0.7951, 0.8985]], requires_grad=True)\n"
          ]
        }
      ],
      "source": [
        "threshold = 1e-5\n",
        "learning_rate = 1.\n",
        "iter_cnt = 0\n",
        "\n",
        "while loss > threshold:\n",
        "    iter_cnt += 1\n",
        "    \n",
        "    loss.backward() # Calculate gradients.\n",
        "\n",
        "    x = x - learning_rate * x.grad\n",
        "    \n",
        "    # You don't need to aware this now.\n",
        "    x.detach_()\n",
        "    x.requires_grad_(True)\n",
        "    \n",
        "    loss = F.mse_loss(x, target)\n",
        "    \n",
        "    print('%d-th Loss: %.4e' % (iter_cnt, loss))\n",
        "    print(x)"
      ]
    },
    {
      "cell_type": "code",
      "execution_count": null,
      "metadata": {
        "id": "A_gEmFUcCGEH"
      },
      "outputs": [],
      "source": []
    }
  ],
  "metadata": {
    "kernelspec": {
      "display_name": "Python 3",
      "language": "python",
      "name": "python3"
    },
    "language_info": {
      "codemirror_mode": {
        "name": "ipython",
        "version": 3
      },
      "file_extension": ".py",
      "mimetype": "text/x-python",
      "name": "python",
      "nbconvert_exporter": "python",
      "pygments_lexer": "ipython3",
      "version": "3.7.6"
    },
    "colab": {
      "provenance": [],
      "include_colab_link": true
    }
  },
  "nbformat": 4,
  "nbformat_minor": 0
}