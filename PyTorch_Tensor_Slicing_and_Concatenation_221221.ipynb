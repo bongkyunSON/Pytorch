{
  "cells": [
    {
      "cell_type": "markdown",
      "metadata": {
        "id": "view-in-github",
        "colab_type": "text"
      },
      "source": [
        "<a href=\"https://colab.research.google.com/github/bongkyunSON/Pytorch/blob/main/PyTorch_Tensor_Slicing_and_Concatenation_221221.ipynb\" target=\"_parent\"><img src=\"https://colab.research.google.com/assets/colab-badge.svg\" alt=\"Open In Colab\"/></a>"
      ]
    },
    {
      "cell_type": "markdown",
      "metadata": {
        "id": "McuGcIjdS-_1"
      },
      "source": [
        "## PyTorch Tensor Slicing and Concatenation"
      ]
    },
    {
      "cell_type": "code",
      "execution_count": 12,
      "metadata": {
        "id": "EEO-1y3HS-_3"
      },
      "outputs": [],
      "source": [
        "import torch"
      ]
    },
    {
      "cell_type": "markdown",
      "metadata": {
        "id": "J2B4AXJaS-_3"
      },
      "source": [
        "## Slicing and Concatenation"
      ]
    },
    {
      "cell_type": "markdown",
      "metadata": {
        "id": "Nmn_aN4hS-_4"
      },
      "source": [
        "### Indexing and Slicing\n",
        "\n",
        "Prepare target tensor."
      ]
    },
    {
      "cell_type": "code",
      "execution_count": 13,
      "metadata": {
        "id": "zEAnmU5eS-_4",
        "outputId": "f86d35d7-4225-4121-9303-9c526f74a569",
        "colab": {
          "base_uri": "https://localhost:8080/"
        }
      },
      "outputs": [
        {
          "output_type": "stream",
          "name": "stdout",
          "text": [
            "torch.Size([3, 2, 2])\n"
          ]
        }
      ],
      "source": [
        "x = torch.FloatTensor([[[1, 2],\n",
        "                        [3, 4]],\n",
        "                       [[5, 6],\n",
        "                        [7, 8]],\n",
        "                       [[9, 10],\n",
        "                        [11, 12]]])\n",
        "print(x.size())"
      ]
    },
    {
      "cell_type": "markdown",
      "metadata": {
        "id": "KQkxbPFCS-_5"
      },
      "source": [
        "Access to certain dimension."
      ]
    },
    {
      "cell_type": "code",
      "execution_count": 14,
      "metadata": {
        "id": "CbBV-gjJS-_5",
        "outputId": "872d1086-9a9e-4e8d-8436-a495ea472e8b",
        "colab": {
          "base_uri": "https://localhost:8080/"
        }
      },
      "outputs": [
        {
          "output_type": "stream",
          "name": "stdout",
          "text": [
            "tensor([[1., 2.],\n",
            "        [3., 4.]])\n",
            "tensor([[1., 2.],\n",
            "        [3., 4.]])\n",
            "tensor([[1., 2.],\n",
            "        [3., 4.]])\n",
            "torch.Size([2, 2])\n"
          ]
        }
      ],
      "source": [
        "print(x[0])\n",
        "print(x[0, :])\n",
        "print(x[0, :, :])\n",
        "print(x[0, :, :].size())"
      ]
    },
    {
      "cell_type": "code",
      "execution_count": 15,
      "metadata": {
        "id": "o7LjlSnJS-_6",
        "outputId": "c85b5e0e-fa75-47e8-bc0a-876435e3bff3",
        "colab": {
          "base_uri": "https://localhost:8080/"
        }
      },
      "outputs": [
        {
          "output_type": "stream",
          "name": "stdout",
          "text": [
            "tensor([[ 9., 10.],\n",
            "        [11., 12.]])\n",
            "tensor([[ 9., 10.],\n",
            "        [11., 12.]])\n",
            "tensor([[ 9., 10.],\n",
            "        [11., 12.]])\n",
            "torch.Size([2, 2])\n"
          ]
        }
      ],
      "source": [
        "print(x[-1])\n",
        "print(x[-1, :])\n",
        "print(x[-1, :, :])\n",
        "print(x[-1, :, :].size())"
      ]
    },
    {
      "cell_type": "code",
      "execution_count": 16,
      "metadata": {
        "id": "Ojjv6ErsS-_6",
        "outputId": "74c1662f-4a33-42d2-c9e7-5e9102e088d2",
        "colab": {
          "base_uri": "https://localhost:8080/"
        }
      },
      "outputs": [
        {
          "output_type": "stream",
          "name": "stdout",
          "text": [
            "tensor([[ 1.,  2.],\n",
            "        [ 5.,  6.],\n",
            "        [ 9., 10.]])\n",
            "torch.Size([3, 2])\n"
          ]
        }
      ],
      "source": [
        "print(x[:, 0, :])\n",
        "print(x[:, 0, :].size())"
      ]
    },
    {
      "cell_type": "markdown",
      "metadata": {
        "id": "1MIlx2gvS-_6"
      },
      "source": [
        "Access by range. Note that the number of dimensions would not be changed."
      ]
    },
    {
      "cell_type": "code",
      "execution_count": 17,
      "metadata": {
        "scrolled": true,
        "id": "MSUck1lxS-_6",
        "outputId": "5f245634-c55d-4990-bbc8-4ae6a38d9f88",
        "colab": {
          "base_uri": "https://localhost:8080/"
        }
      },
      "outputs": [
        {
          "output_type": "stream",
          "name": "stdout",
          "text": [
            "torch.Size([2, 2, 2])\n",
            "torch.Size([3, 1, 2])\n",
            "torch.Size([3, 1, 2])\n"
          ]
        }
      ],
      "source": [
        "print(x[1:3, :, :].size())\n",
        "print(x[:, :1, :].size())\n",
        "print(x[:, :-1, :].size())"
      ]
    },
    {
      "cell_type": "markdown",
      "metadata": {
        "id": "3XIrtl2lS-_7"
      },
      "source": [
        "### split: Split tensor to desirable shapes."
      ]
    },
    {
      "cell_type": "code",
      "execution_count": 18,
      "metadata": {
        "id": "jSppEsMoS-_7"
      },
      "outputs": [],
      "source": [
        "x = torch.FloatTensor(10, 4)"
      ]
    },
    {
      "cell_type": "code",
      "execution_count": 19,
      "metadata": {
        "id": "FP6wTW3FS-_7",
        "outputId": "59a6c5df-3c16-45e5-e591-91cdd06bf3b6",
        "colab": {
          "base_uri": "https://localhost:8080/"
        }
      },
      "outputs": [
        {
          "output_type": "stream",
          "name": "stdout",
          "text": [
            "torch.Size([4, 4])\n",
            "torch.Size([4, 4])\n",
            "torch.Size([2, 4])\n"
          ]
        }
      ],
      "source": [
        "splits = x.split(4, dim=0)\n",
        "\n",
        "for s in splits:\n",
        "    print(s.size())"
      ]
    },
    {
      "cell_type": "markdown",
      "metadata": {
        "id": "HnAQeoamS-_7"
      },
      "source": [
        "### chunk: Split tensor to number of chunks."
      ]
    },
    {
      "cell_type": "code",
      "execution_count": 20,
      "metadata": {
        "id": "4vAUtlG-S-_8"
      },
      "outputs": [],
      "source": [
        "x = torch.FloatTensor(8, 4)"
      ]
    },
    {
      "cell_type": "code",
      "execution_count": 21,
      "metadata": {
        "id": "qNl7PTLLS-_8",
        "outputId": "bc9da163-633a-473d-e879-f7d84c8d04ff",
        "colab": {
          "base_uri": "https://localhost:8080/"
        }
      },
      "outputs": [
        {
          "output_type": "stream",
          "name": "stdout",
          "text": [
            "torch.Size([3, 4])\n",
            "torch.Size([3, 4])\n",
            "torch.Size([2, 4])\n"
          ]
        }
      ],
      "source": [
        "chunks = x.chunk(3, dim=0)\n",
        "\n",
        "for c in chunks:\n",
        "    print(c.size())"
      ]
    },
    {
      "cell_type": "markdown",
      "metadata": {
        "id": "MJygHizRS-_8"
      },
      "source": [
        "### index_select: Select elements by using dimension index."
      ]
    },
    {
      "cell_type": "code",
      "execution_count": 33,
      "metadata": {
        "id": "Ue_GK6RUS-_8",
        "outputId": "e78d3668-2763-4b86-a8e0-e91020f90498",
        "colab": {
          "base_uri": "https://localhost:8080/"
        }
      },
      "outputs": [
        {
          "output_type": "stream",
          "name": "stdout",
          "text": [
            "torch.Size([3, 2, 2])\n"
          ]
        }
      ],
      "source": [
        "x = torch.FloatTensor([[[1, 1],\n",
        "                        [2, 2]],\n",
        "                       [[3, 3],\n",
        "                        [4, 4]],\n",
        "                       [[5, 5],\n",
        "                        [6, 6]]])\n",
        "indice = torch.LongTensor([2, 1])\n",
        "\n",
        "print(x.size())"
      ]
    },
    {
      "cell_type": "code",
      "execution_count": 34,
      "metadata": {
        "id": "lqwGz5gwS-_8",
        "outputId": "d687aa21-868d-4391-a401-d67d7828e429",
        "colab": {
          "base_uri": "https://localhost:8080/"
        }
      },
      "outputs": [
        {
          "output_type": "stream",
          "name": "stdout",
          "text": [
            "tensor([[[5., 5.],\n",
            "         [6., 6.]],\n",
            "\n",
            "        [[3., 3.],\n",
            "         [4., 4.]]])\n",
            "torch.Size([2, 2, 2])\n"
          ]
        }
      ],
      "source": [
        "y = x.index_select(dim=0, index=indice)\n",
        "\n",
        "print(y)\n",
        "print(y.size())"
      ]
    },
    {
      "cell_type": "markdown",
      "metadata": {
        "id": "9efvC6VsS-_9"
      },
      "source": [
        "### cat: Concatenation of multiple tensors in the list."
      ]
    },
    {
      "cell_type": "code",
      "execution_count": 24,
      "metadata": {
        "id": "ywZ2QqcKS-_9",
        "outputId": "c9320f51-6435-4c6d-b254-96993e9311ed",
        "colab": {
          "base_uri": "https://localhost:8080/"
        }
      },
      "outputs": [
        {
          "output_type": "stream",
          "name": "stdout",
          "text": [
            "torch.Size([3, 3]) torch.Size([3, 3])\n"
          ]
        }
      ],
      "source": [
        "x = torch.FloatTensor([[1, 2, 3],\n",
        "                       [4, 5, 6],\n",
        "                       [7, 8, 9]])\n",
        "y = torch.FloatTensor([[10, 11, 12],\n",
        "                       [13, 14, 15],\n",
        "                       [16, 17, 18]])\n",
        "\n",
        "print(x.size(), y.size())"
      ]
    },
    {
      "cell_type": "code",
      "execution_count": 25,
      "metadata": {
        "id": "5yhcM722S-_9",
        "outputId": "519156ef-3a83-4d6f-b55e-9170a13a85cb",
        "colab": {
          "base_uri": "https://localhost:8080/"
        }
      },
      "outputs": [
        {
          "output_type": "stream",
          "name": "stdout",
          "text": [
            "tensor([[ 1.,  2.,  3.],\n",
            "        [ 4.,  5.,  6.],\n",
            "        [ 7.,  8.,  9.],\n",
            "        [10., 11., 12.],\n",
            "        [13., 14., 15.],\n",
            "        [16., 17., 18.]])\n",
            "torch.Size([6, 3])\n"
          ]
        }
      ],
      "source": [
        "z = torch.cat([x, y], dim=0)\n",
        "print(z)\n",
        "print(z.size())"
      ]
    },
    {
      "cell_type": "code",
      "execution_count": 26,
      "metadata": {
        "id": "4l8eRJR-S-_-",
        "outputId": "5fc04ec4-04d9-4bf4-b7bf-298c16f22149",
        "colab": {
          "base_uri": "https://localhost:8080/"
        }
      },
      "outputs": [
        {
          "output_type": "stream",
          "name": "stdout",
          "text": [
            "tensor([[ 1.,  2.,  3., 10., 11., 12.],\n",
            "        [ 4.,  5.,  6., 13., 14., 15.],\n",
            "        [ 7.,  8.,  9., 16., 17., 18.]])\n",
            "torch.Size([3, 6])\n"
          ]
        }
      ],
      "source": [
        "z = torch.cat([x, y], dim=-1)\n",
        "print(z)\n",
        "print(z.size())"
      ]
    },
    {
      "cell_type": "markdown",
      "metadata": {
        "id": "nQmXZpWLS-_-"
      },
      "source": [
        "### stack: Stacking of multiple tensors in the list."
      ]
    },
    {
      "cell_type": "code",
      "execution_count": 27,
      "metadata": {
        "id": "jSPn0btaS-_-",
        "outputId": "ac95fc0d-1b8e-4d35-c5e3-80b317da22fd",
        "colab": {
          "base_uri": "https://localhost:8080/"
        }
      },
      "outputs": [
        {
          "output_type": "stream",
          "name": "stdout",
          "text": [
            "tensor([[[ 1.,  2.,  3.],\n",
            "         [ 4.,  5.,  6.],\n",
            "         [ 7.,  8.,  9.]],\n",
            "\n",
            "        [[10., 11., 12.],\n",
            "         [13., 14., 15.],\n",
            "         [16., 17., 18.]]])\n",
            "torch.Size([2, 3, 3])\n"
          ]
        }
      ],
      "source": [
        "z = torch.stack([x, y])\n",
        "print(z)\n",
        "print(z.size())"
      ]
    },
    {
      "cell_type": "markdown",
      "metadata": {
        "id": "07nPW5e6S-_-"
      },
      "source": [
        "Or you can specify the dimension. Default is 0."
      ]
    },
    {
      "cell_type": "code",
      "execution_count": 28,
      "metadata": {
        "id": "klo1CTGGS-_-",
        "outputId": "2ab03e9e-b819-4f4a-8d89-8ba1a1ed813a",
        "colab": {
          "base_uri": "https://localhost:8080/"
        }
      },
      "outputs": [
        {
          "output_type": "stream",
          "name": "stdout",
          "text": [
            "tensor([[[ 1., 10.],\n",
            "         [ 2., 11.],\n",
            "         [ 3., 12.]],\n",
            "\n",
            "        [[ 4., 13.],\n",
            "         [ 5., 14.],\n",
            "         [ 6., 15.]],\n",
            "\n",
            "        [[ 7., 16.],\n",
            "         [ 8., 17.],\n",
            "         [ 9., 18.]]])\n",
            "torch.Size([3, 3, 2])\n"
          ]
        }
      ],
      "source": [
        "z = torch.stack([x, y], dim=-1)\n",
        "print(z)\n",
        "print(z.size())"
      ]
    },
    {
      "cell_type": "markdown",
      "metadata": {
        "id": "dzC6OTneS-_-"
      },
      "source": [
        "### Implement 'stack' function by using 'cat'."
      ]
    },
    {
      "cell_type": "code",
      "execution_count": 29,
      "metadata": {
        "id": "EgFEDkuyS-__",
        "outputId": "0b87535f-e280-4be4-b990-81546a21d50d",
        "colab": {
          "base_uri": "https://localhost:8080/"
        }
      },
      "outputs": [
        {
          "output_type": "stream",
          "name": "stdout",
          "text": [
            "tensor([[[ 1.,  2.,  3.],\n",
            "         [ 4.,  5.,  6.],\n",
            "         [ 7.,  8.,  9.]],\n",
            "\n",
            "        [[10., 11., 12.],\n",
            "         [13., 14., 15.],\n",
            "         [16., 17., 18.]]])\n",
            "torch.Size([2, 3, 3])\n"
          ]
        }
      ],
      "source": [
        "# z = torch.stack([x, y])\n",
        "z = torch.cat([x.unsqueeze(0), y.unsqueeze(0)], dim=0)\n",
        "print(z)\n",
        "print(z.size())"
      ]
    },
    {
      "cell_type": "markdown",
      "metadata": {
        "id": "-p6zkvCvS-__"
      },
      "source": [
        "### Useful Trick: Merge results from iterations"
      ]
    },
    {
      "cell_type": "code",
      "execution_count": 30,
      "metadata": {
        "id": "1sVS9kjeS-__",
        "outputId": "1f9a1ca9-49aa-4a1c-9082-da5e03120793",
        "colab": {
          "base_uri": "https://localhost:8080/"
        }
      },
      "outputs": [
        {
          "output_type": "execute_result",
          "data": {
            "text/plain": [
              "torch.Size([5, 2, 2])"
            ]
          },
          "metadata": {},
          "execution_count": 30
        }
      ],
      "source": [
        "result = []\n",
        "for i in range(5):\n",
        "    x = torch.FloatTensor(2, 2)\n",
        "    result += [x]\n",
        "\n",
        "result = torch.stack(result)\n",
        "result.size()"
      ]
    }
  ],
  "metadata": {
    "kernelspec": {
      "display_name": "Python 3",
      "language": "python",
      "name": "python3"
    },
    "language_info": {
      "codemirror_mode": {
        "name": "ipython",
        "version": 3
      },
      "file_extension": ".py",
      "mimetype": "text/x-python",
      "name": "python",
      "nbconvert_exporter": "python",
      "pygments_lexer": "ipython3",
      "version": "3.7.6"
    },
    "colab": {
      "provenance": [],
      "include_colab_link": true
    }
  },
  "nbformat": 4,
  "nbformat_minor": 0
}