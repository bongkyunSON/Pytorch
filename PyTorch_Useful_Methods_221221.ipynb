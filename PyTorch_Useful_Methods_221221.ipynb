{
  "cells": [
    {
      "cell_type": "markdown",
      "metadata": {
        "id": "view-in-github",
        "colab_type": "text"
      },
      "source": [
        "<a href=\"https://colab.research.google.com/github/bongkyunSON/Pytorch/blob/main/PyTorch_Useful_Methods_221221.ipynb\" target=\"_parent\"><img src=\"https://colab.research.google.com/assets/colab-badge.svg\" alt=\"Open In Colab\"/></a>"
      ]
    },
    {
      "cell_type": "markdown",
      "metadata": {
        "id": "ZDuu5nMyVO1q"
      },
      "source": [
        "# PyTorch Useful Methods"
      ]
    },
    {
      "cell_type": "code",
      "execution_count": 1,
      "metadata": {
        "id": "4ybtlkySVO1u"
      },
      "outputs": [],
      "source": [
        "import torch"
      ]
    },
    {
      "cell_type": "markdown",
      "metadata": {
        "id": "1PKiNjhHVO1v"
      },
      "source": [
        "### expand: copy the given tensor and concat those at desired dimension."
      ]
    },
    {
      "cell_type": "code",
      "execution_count": 2,
      "metadata": {
        "colab": {
          "base_uri": "https://localhost:8080/"
        },
        "id": "jTkinXYmVO1w",
        "outputId": "d8d26a12-eb3e-4303-9a3b-b653eb7af267"
      },
      "outputs": [
        {
          "output_type": "stream",
          "name": "stdout",
          "text": [
            "torch.Size([2, 1, 2])\n"
          ]
        }
      ],
      "source": [
        "x = torch.FloatTensor([[[1, 2]],\n",
        "                       [[3, 4]]])\n",
        "print(x.size())"
      ]
    },
    {
      "cell_type": "code",
      "execution_count": 3,
      "metadata": {
        "colab": {
          "base_uri": "https://localhost:8080/"
        },
        "id": "OK-2fk0IVO1w",
        "outputId": "8b77ecdc-ed81-4fa0-dc43-29a51679c160"
      },
      "outputs": [
        {
          "output_type": "stream",
          "name": "stdout",
          "text": [
            "tensor([[[1., 2.],\n",
            "         [1., 2.],\n",
            "         [1., 2.]],\n",
            "\n",
            "        [[3., 4.],\n",
            "         [3., 4.],\n",
            "         [3., 4.]]])\n",
            "torch.Size([2, 3, 2])\n"
          ]
        }
      ],
      "source": [
        "y = x.expand(*[2, 3, 2])\n",
        "\n",
        "print(y)\n",
        "print(y.size())"
      ]
    },
    {
      "cell_type": "markdown",
      "metadata": {
        "id": "ArdC6SvvVO1x"
      },
      "source": [
        "#### Implement expand with cat."
      ]
    },
    {
      "cell_type": "code",
      "execution_count": 4,
      "metadata": {
        "colab": {
          "base_uri": "https://localhost:8080/"
        },
        "id": "mUR11KoQVO1x",
        "outputId": "ddbe0765-878b-4f03-ab8d-78695e2e6be1"
      },
      "outputs": [
        {
          "output_type": "stream",
          "name": "stdout",
          "text": [
            "tensor([[[1., 2.],\n",
            "         [1., 2.],\n",
            "         [1., 2.]],\n",
            "\n",
            "        [[3., 4.],\n",
            "         [3., 4.],\n",
            "         [3., 4.]]])\n",
            "torch.Size([2, 3, 2])\n"
          ]
        }
      ],
      "source": [
        "y = torch.cat([x, x, x], dim=1)\n",
        "\n",
        "print(y)\n",
        "print(y.size())"
      ]
    },
    {
      "cell_type": "markdown",
      "metadata": {
        "id": "_EzSA9odVO1y"
      },
      "source": [
        "### randperm: Random Permutation"
      ]
    },
    {
      "cell_type": "code",
      "execution_count": 5,
      "metadata": {
        "colab": {
          "base_uri": "https://localhost:8080/"
        },
        "id": "tkyvg0skVO1y",
        "outputId": "cdfdc832-689e-4e88-d6d0-f8d40ca63e39"
      },
      "outputs": [
        {
          "output_type": "stream",
          "name": "stdout",
          "text": [
            "tensor([0, 2, 1, 6, 4, 8, 7, 9, 3, 5])\n",
            "torch.Size([10])\n"
          ]
        }
      ],
      "source": [
        "x = torch.randperm(10)\n",
        "\n",
        "print(x)\n",
        "print(x.size())"
      ]
    },
    {
      "cell_type": "markdown",
      "metadata": {
        "id": "IvsO6rhrVO1z"
      },
      "source": [
        "### argmax: Return index of maximum values"
      ]
    },
    {
      "cell_type": "code",
      "execution_count": 26,
      "metadata": {
        "scrolled": true,
        "colab": {
          "base_uri": "https://localhost:8080/"
        },
        "id": "D4g_DwS_VO1z",
        "outputId": "88abed11-b559-41b9-f3b6-67d7c2d2a2b7"
      },
      "outputs": [
        {
          "output_type": "stream",
          "name": "stdout",
          "text": [
            "tensor([[[11, 21,  1],\n",
            "         [ 7, 23, 25],\n",
            "         [19, 20, 13]],\n",
            "\n",
            "        [[ 9,  0, 26],\n",
            "         [22, 24, 12],\n",
            "         [ 2, 15, 10]],\n",
            "\n",
            "        [[18,  8,  4],\n",
            "         [17,  5,  3],\n",
            "         [16,  6, 14]]])\n",
            "torch.Size([3, 3, 3])\n"
          ]
        }
      ],
      "source": [
        "x = torch.randperm(3**3).reshape(3, 3, -1)\n",
        "\n",
        "print(x)\n",
        "print(x.size())"
      ]
    },
    {
      "cell_type": "code",
      "source": [
        "y = x.argmax(dim=0)\n",
        "\n",
        "print(y)\n",
        "print(y.size())"
      ],
      "metadata": {
        "colab": {
          "base_uri": "https://localhost:8080/"
        },
        "id": "WLO3e45lb8UC",
        "outputId": "930a7f30-c1f5-424a-8990-e2ec957083c9"
      },
      "execution_count": 27,
      "outputs": [
        {
          "output_type": "stream",
          "name": "stdout",
          "text": [
            "tensor([[2, 0, 1],\n",
            "        [1, 1, 0],\n",
            "        [0, 0, 2]])\n",
            "torch.Size([3, 3])\n"
          ]
        }
      ]
    },
    {
      "cell_type": "code",
      "source": [
        "y = x.argmax(dim=1)\n",
        "\n",
        "print(y)\n",
        "print(y.size())"
      ],
      "metadata": {
        "colab": {
          "base_uri": "https://localhost:8080/"
        },
        "id": "2kNNq5hjX1vA",
        "outputId": "14020823-5ce7-48ad-b889-925938fe9471"
      },
      "execution_count": 28,
      "outputs": [
        {
          "output_type": "stream",
          "name": "stdout",
          "text": [
            "tensor([[2, 1, 1],\n",
            "        [1, 1, 0],\n",
            "        [0, 0, 2]])\n",
            "torch.Size([3, 3])\n"
          ]
        }
      ]
    },
    {
      "cell_type": "code",
      "execution_count": 29,
      "metadata": {
        "colab": {
          "base_uri": "https://localhost:8080/"
        },
        "id": "s60gEhj5VO1z",
        "outputId": "fa7c567b-20b0-45d7-b91e-9ae60da247af"
      },
      "outputs": [
        {
          "output_type": "stream",
          "name": "stdout",
          "text": [
            "tensor([[1, 2, 1],\n",
            "        [2, 1, 1],\n",
            "        [0, 0, 0]])\n",
            "torch.Size([3, 3])\n"
          ]
        }
      ],
      "source": [
        "y = x.argmax(dim=-1)\n",
        "\n",
        "print(y)\n",
        "print(y.size())"
      ]
    },
    {
      "cell_type": "markdown",
      "metadata": {
        "id": "JbIT-JXfVO10"
      },
      "source": [
        "### topk: Return tuple of top-k values and indices."
      ]
    },
    {
      "cell_type": "code",
      "execution_count": 30,
      "metadata": {
        "scrolled": false,
        "colab": {
          "base_uri": "https://localhost:8080/"
        },
        "id": "2D8oJqODVO10",
        "outputId": "e139f597-8711-4e7d-f794-fc7879909d48"
      },
      "outputs": [
        {
          "output_type": "stream",
          "name": "stdout",
          "text": [
            "torch.Size([3, 3, 1])\n",
            "torch.Size([3, 3, 1])\n"
          ]
        }
      ],
      "source": [
        "values, indices = torch.topk(x, k=1, dim=-1)\n",
        "\n",
        "print(values.size())\n",
        "print(indices.size())"
      ]
    },
    {
      "cell_type": "markdown",
      "metadata": {
        "id": "ecePeK2-VO10"
      },
      "source": [
        "Note that topk didn't reduce the dimension, even in $k=1$ case."
      ]
    },
    {
      "cell_type": "code",
      "execution_count": 31,
      "metadata": {
        "colab": {
          "base_uri": "https://localhost:8080/"
        },
        "id": "OV2350FgVO11",
        "outputId": "e2ce8292-d3c1-492c-a846-096544f603fa"
      },
      "outputs": [
        {
          "output_type": "stream",
          "name": "stdout",
          "text": [
            "tensor([[21, 25, 20],\n",
            "        [26, 24, 15],\n",
            "        [18, 17, 16]])\n",
            "tensor([[1, 2, 1],\n",
            "        [2, 1, 1],\n",
            "        [0, 0, 0]])\n"
          ]
        }
      ],
      "source": [
        "print(values.squeeze(-1))\n",
        "print(indices.squeeze(-1))"
      ]
    },
    {
      "cell_type": "code",
      "execution_count": 32,
      "metadata": {
        "colab": {
          "base_uri": "https://localhost:8080/"
        },
        "id": "DtlFJ0SxVO11",
        "outputId": "e78fff9f-d892-4c6d-ca05-0ee3fa85c6a8"
      },
      "outputs": [
        {
          "output_type": "stream",
          "name": "stdout",
          "text": [
            "tensor([[True, True, True],\n",
            "        [True, True, True],\n",
            "        [True, True, True]])\n"
          ]
        }
      ],
      "source": [
        "print(x.argmax(dim=-1) == indices.squeeze(-1))"
      ]
    },
    {
      "cell_type": "code",
      "execution_count": 33,
      "metadata": {
        "colab": {
          "base_uri": "https://localhost:8080/"
        },
        "id": "FumuJ_VVVO11",
        "outputId": "25a46731-729e-4a46-cf9c-9a2031bdf646"
      },
      "outputs": [
        {
          "output_type": "stream",
          "name": "stdout",
          "text": [
            "torch.Size([3, 3, 2])\n",
            "tensor([[True, True, True],\n",
            "        [True, True, True],\n",
            "        [True, True, True]])\n"
          ]
        }
      ],
      "source": [
        "_, indices = torch.topk(x, k=2, dim=-1)\n",
        "print(indices.size())\n",
        "\n",
        "print(x.argmax(dim=-1) == indices[:, :, 0])"
      ]
    },
    {
      "cell_type": "markdown",
      "metadata": {
        "id": "7HSYXcLJVO12"
      },
      "source": [
        "### Sort by using topk"
      ]
    },
    {
      "cell_type": "code",
      "execution_count": 34,
      "metadata": {
        "colab": {
          "base_uri": "https://localhost:8080/"
        },
        "id": "RfcobpflVO12",
        "outputId": "3b053883-f4f5-46cc-c086-a319572e8650"
      },
      "outputs": [
        {
          "output_type": "stream",
          "name": "stdout",
          "text": [
            "tensor([[[21, 11,  1],\n",
            "         [25, 23,  7],\n",
            "         [20, 19, 13]],\n",
            "\n",
            "        [[26,  9,  0],\n",
            "         [24, 22, 12],\n",
            "         [15, 10,  2]],\n",
            "\n",
            "        [[18,  8,  4],\n",
            "         [17,  5,  3],\n",
            "         [16, 14,  6]]])\n"
          ]
        }
      ],
      "source": [
        "target_dim = -1\n",
        "values, indices = torch.topk(x,\n",
        "                             k=x.size(target_dim),\n",
        "                             largest=True)\n",
        "\n",
        "print(values)"
      ]
    },
    {
      "cell_type": "markdown",
      "metadata": {
        "id": "dND2wH3MVO13"
      },
      "source": [
        "### Topk by using sort"
      ]
    },
    {
      "cell_type": "code",
      "execution_count": 35,
      "metadata": {
        "colab": {
          "base_uri": "https://localhost:8080/"
        },
        "id": "XUK4TRtWVO13",
        "outputId": "de89d1ec-0ba8-4630-8f0d-260ac6bca8bb"
      },
      "outputs": [
        {
          "output_type": "stream",
          "name": "stdout",
          "text": [
            "tensor([[21, 25, 20],\n",
            "        [26, 24, 15],\n",
            "        [18, 17, 16]])\n",
            "tensor([[1, 2, 1],\n",
            "        [2, 1, 1],\n",
            "        [0, 0, 0]])\n"
          ]
        }
      ],
      "source": [
        "k=1\n",
        "values, indices = torch.sort(x, dim=-1, descending=True)\n",
        "values, indices = values[:, :, :k], indices[:, :, :k]\n",
        "\n",
        "print(values.squeeze(-1))\n",
        "print(indices.squeeze(-1))"
      ]
    },
    {
      "cell_type": "markdown",
      "metadata": {
        "id": "8RXuc6dlVO13"
      },
      "source": [
        "### masked_fill: fill the value if element of mask is True."
      ]
    },
    {
      "cell_type": "code",
      "execution_count": 36,
      "metadata": {
        "colab": {
          "base_uri": "https://localhost:8080/"
        },
        "id": "rU10Q6omVO13",
        "outputId": "3df23533-c5aa-4b41-f1de-d8b2693680d9"
      },
      "outputs": [
        {
          "output_type": "stream",
          "name": "stdout",
          "text": [
            "tensor([[0., 1., 2.],\n",
            "        [3., 4., 5.],\n",
            "        [6., 7., 8.]])\n",
            "torch.Size([3, 3])\n"
          ]
        }
      ],
      "source": [
        "x = torch.FloatTensor([i for i in range(3**2)]).reshape(3, -1)\n",
        "\n",
        "print(x)\n",
        "print(x.size())"
      ]
    },
    {
      "cell_type": "code",
      "execution_count": 37,
      "metadata": {
        "colab": {
          "base_uri": "https://localhost:8080/"
        },
        "id": "eGrdtJpXVO14",
        "outputId": "105a87aa-a2a7-4e3d-9d97-afde529b0f6b"
      },
      "outputs": [
        {
          "output_type": "stream",
          "name": "stdout",
          "text": [
            "tensor([[False, False, False],\n",
            "        [False, False,  True],\n",
            "        [ True,  True,  True]])\n"
          ]
        }
      ],
      "source": [
        "mask = x > 4\n",
        "\n",
        "print(mask)"
      ]
    },
    {
      "cell_type": "code",
      "execution_count": 38,
      "metadata": {
        "colab": {
          "base_uri": "https://localhost:8080/"
        },
        "id": "dyiRumprVO14",
        "outputId": "6185d01e-c75a-45ab-fe52-d801b05ff2ad"
      },
      "outputs": [
        {
          "output_type": "stream",
          "name": "stdout",
          "text": [
            "tensor([[ 0.,  1.,  2.],\n",
            "        [ 3.,  4., -1.],\n",
            "        [-1., -1., -1.]])\n"
          ]
        }
      ],
      "source": [
        "y = x.masked_fill(mask, value=-1)\n",
        "\n",
        "print(y)"
      ]
    },
    {
      "cell_type": "markdown",
      "metadata": {
        "id": "5S2x_nW6VO15"
      },
      "source": [
        "### Ones and Zeros"
      ]
    },
    {
      "cell_type": "code",
      "execution_count": 39,
      "metadata": {
        "colab": {
          "base_uri": "https://localhost:8080/"
        },
        "id": "YncZigGDVO15",
        "outputId": "559a6842-af53-411a-ff78-bd9c335c7654"
      },
      "outputs": [
        {
          "output_type": "stream",
          "name": "stdout",
          "text": [
            "tensor([[1., 1., 1.],\n",
            "        [1., 1., 1.]])\n",
            "tensor([[0., 0., 0.],\n",
            "        [0., 0., 0.]])\n"
          ]
        }
      ],
      "source": [
        "print(torch.ones(2, 3))\n",
        "print(torch.zeros(2, 3))"
      ]
    },
    {
      "cell_type": "code",
      "execution_count": 40,
      "metadata": {
        "colab": {
          "base_uri": "https://localhost:8080/"
        },
        "id": "nzOfYrxSVO15",
        "outputId": "6f38b4e7-ac09-481f-f3d1-4ab92c0590db"
      },
      "outputs": [
        {
          "output_type": "stream",
          "name": "stdout",
          "text": [
            "torch.Size([2, 3])\n"
          ]
        }
      ],
      "source": [
        "x = torch.FloatTensor([[1, 2, 3],\n",
        "                       [4, 5, 6]])\n",
        "print(x.size())"
      ]
    },
    {
      "cell_type": "code",
      "execution_count": 41,
      "metadata": {
        "colab": {
          "base_uri": "https://localhost:8080/"
        },
        "id": "h3pKbabKVO16",
        "outputId": "7f44ef13-623f-458b-b1d2-ff7617c2ac12"
      },
      "outputs": [
        {
          "output_type": "stream",
          "name": "stdout",
          "text": [
            "tensor([[1., 1., 1.],\n",
            "        [1., 1., 1.]])\n",
            "tensor([[0., 0., 0.],\n",
            "        [0., 0., 0.]])\n"
          ]
        }
      ],
      "source": [
        "print(torch.ones_like(x))\n",
        "print(torch.zeros_like(x))"
      ]
    },
    {
      "cell_type": "code",
      "source": [],
      "metadata": {
        "id": "R2JMaEYolUpA"
      },
      "execution_count": null,
      "outputs": []
    }
  ],
  "metadata": {
    "kernelspec": {
      "display_name": "Python 3",
      "language": "python",
      "name": "python3"
    },
    "language_info": {
      "codemirror_mode": {
        "name": "ipython",
        "version": 3
      },
      "file_extension": ".py",
      "mimetype": "text/x-python",
      "name": "python",
      "nbconvert_exporter": "python",
      "pygments_lexer": "ipython3",
      "version": "3.7.6"
    },
    "colab": {
      "provenance": [],
      "include_colab_link": true
    }
  },
  "nbformat": 4,
  "nbformat_minor": 0
}