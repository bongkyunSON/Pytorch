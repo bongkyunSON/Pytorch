{
  "cells": [
    {
      "cell_type": "markdown",
      "metadata": {
        "id": "view-in-github",
        "colab_type": "text"
      },
      "source": [
        "<a href=\"https://colab.research.google.com/github/bongkyunSON/Pytorch/blob/main/Pytorch_Activation_Functions_221222.ipynb\" target=\"_parent\"><img src=\"https://colab.research.google.com/assets/colab-badge.svg\" alt=\"Open In Colab\"/></a>"
      ]
    },
    {
      "cell_type": "markdown",
      "metadata": {
        "id": "3OZ2JcnElBX3"
      },
      "source": [
        "# Activation Functions"
      ]
    },
    {
      "cell_type": "code",
      "execution_count": 1,
      "metadata": {
        "id": "T2oNvjg_lBYA"
      },
      "outputs": [],
      "source": [
        "import torch\n",
        "import torch.nn as nn\n",
        "\n",
        "from matplotlib import pyplot as plt"
      ]
    },
    {
      "cell_type": "code",
      "execution_count": 6,
      "metadata": {
        "colab": {
          "base_uri": "https://localhost:8080/"
        },
        "id": "RWnU89eNlBYE",
        "outputId": "e903f9c1-17b1-4851-83b6-ef3614d18243"
      },
      "outputs": [
        {
          "output_type": "execute_result",
          "data": {
            "text/plain": [
              "tensor([-31.9585, -27.6751, -25.3332, -21.5569, -20.7029, -19.3161, -18.4197,\n",
              "        -16.3984, -15.9898, -13.9146, -13.6760, -13.3205, -13.1165, -12.3624,\n",
              "        -11.8763, -11.4776, -10.7126, -10.6290, -10.3388, -10.0185,  -9.5127,\n",
              "         -8.9214,  -8.1668,  -7.3245,  -7.0224,  -6.8743,  -6.1718,  -6.1058,\n",
              "         -5.7644,  -5.3995,  -5.2842,  -5.1531,  -4.5868,  -4.5361,  -4.4134,\n",
              "         -3.5718,  -3.4308,  -3.1355,  -3.0407,  -2.9035,  -2.5747,  -2.5292,\n",
              "         -1.9842,  -1.4128,  -1.2065,  -1.0775,  -0.7661,  -0.5640,  -0.2948,\n",
              "         -0.2226,  -0.1801,   0.0549,   0.1659,   0.2551,   0.4866,   0.4921,\n",
              "          0.5335,   0.7832,   1.3347,   1.7434,   2.1404,   2.6519,   3.5200,\n",
              "          4.1913,   4.4441,   4.6072,   5.1420,   5.3184,   5.7630,   6.1800,\n",
              "          6.2473,   6.8787,   6.9596,   7.0741,   7.9863,   8.1940,   8.5107,\n",
              "          8.6518,   8.8227,   9.0560,   9.2628,   9.8489,   9.8693,  10.2123,\n",
              "         10.5133,  10.5753,  11.1097,  11.2842,  12.1169,  12.7420,  13.4057,\n",
              "         15.3749,  16.2201,  16.5581,  16.9882,  17.0030,  19.6209,  20.2859,\n",
              "         23.2078,  26.1882])"
            ]
          },
          "metadata": {},
          "execution_count": 6
        }
      ],
      "source": [
        "x = torch.sort(torch.randn(100) * 10)[0]\n",
        "\n",
        "x"
      ]
    },
    {
      "cell_type": "markdown",
      "metadata": {
        "id": "wY6X0oeXlBYF"
      },
      "source": [
        "## Sigmoid\n",
        "\n",
        "$$\n",
        "\\sigma(x)=\\frac{1}{1+e^{-x}}\n",
        "$$"
      ]
    },
    {
      "cell_type": "code",
      "execution_count": 7,
      "metadata": {
        "colab": {
          "base_uri": "https://localhost:8080/"
        },
        "id": "7GcIX5tKlBYF",
        "outputId": "318d18ff-9ba1-4e6e-cdfd-65e1ad6ab5d8"
      },
      "outputs": [
        {
          "output_type": "stream",
          "name": "stdout",
          "text": [
            "tensor([1.3201e-14, 9.5684e-13, 9.9525e-12, 4.3447e-10, 1.0206e-09, 4.0843e-09,\n",
            "        1.0010e-08, 7.5553e-08, 1.1369e-07, 9.0567e-07, 1.1497e-06, 1.6405e-06,\n",
            "        2.0118e-06, 4.2762e-06, 6.9534e-06, 1.0360e-05, 2.2262e-05, 2.4202e-05,\n",
            "        3.2352e-05, 4.4567e-05, 7.3900e-05, 1.3348e-04, 2.8386e-04, 6.5877e-04,\n",
            "        8.9088e-04, 1.0329e-03, 2.0832e-03, 2.2249e-03, 3.1274e-03, 4.4983e-03,\n",
            "        5.0454e-03, 5.7480e-03, 1.0083e-02, 1.0601e-02, 1.1969e-02, 2.7337e-02,\n",
            "        3.1346e-02, 4.1667e-02, 4.5621e-02, 5.1983e-02, 7.0786e-02, 7.3835e-02,\n",
            "        1.2087e-01, 1.9580e-01, 2.3031e-01, 2.5397e-01, 3.1732e-01, 3.6262e-01,\n",
            "        4.2684e-01, 4.4457e-01, 4.5509e-01, 5.1373e-01, 5.4138e-01, 5.6343e-01,\n",
            "        6.1930e-01, 6.2061e-01, 6.3029e-01, 6.8637e-01, 7.9162e-01, 8.5111e-01,\n",
            "        8.9477e-01, 9.3413e-01, 9.7125e-01, 9.8510e-01, 9.8839e-01, 9.9012e-01,\n",
            "        9.9419e-01, 9.9512e-01, 9.9687e-01, 9.9793e-01, 9.9807e-01, 9.9897e-01,\n",
            "        9.9905e-01, 9.9915e-01, 9.9966e-01, 9.9972e-01, 9.9980e-01, 9.9983e-01,\n",
            "        9.9985e-01, 9.9988e-01, 9.9991e-01, 9.9995e-01, 9.9995e-01, 9.9996e-01,\n",
            "        9.9997e-01, 9.9997e-01, 9.9998e-01, 9.9999e-01, 9.9999e-01, 1.0000e+00,\n",
            "        1.0000e+00, 1.0000e+00, 1.0000e+00, 1.0000e+00, 1.0000e+00, 1.0000e+00,\n",
            "        1.0000e+00, 1.0000e+00, 1.0000e+00, 1.0000e+00])\n"
          ]
        }
      ],
      "source": [
        "act = nn.Sigmoid()\n",
        "print(act(x))"
      ]
    },
    {
      "cell_type": "code",
      "execution_count": 8,
      "metadata": {
        "scrolled": true,
        "colab": {
          "base_uri": "https://localhost:8080/"
        },
        "id": "QvoKWxRelBYG",
        "outputId": "0e116614-e526-4208-a88f-37c92d69a175"
      },
      "outputs": [
        {
          "output_type": "stream",
          "name": "stdout",
          "text": [
            "tensor([1.3201e-14, 9.5684e-13, 9.9525e-12, 4.3447e-10, 1.0206e-09, 4.0843e-09,\n",
            "        1.0010e-08, 7.5553e-08, 1.1369e-07, 9.0567e-07, 1.1497e-06, 1.6405e-06,\n",
            "        2.0118e-06, 4.2762e-06, 6.9534e-06, 1.0360e-05, 2.2262e-05, 2.4202e-05,\n",
            "        3.2352e-05, 4.4567e-05, 7.3900e-05, 1.3348e-04, 2.8386e-04, 6.5877e-04,\n",
            "        8.9088e-04, 1.0329e-03, 2.0832e-03, 2.2249e-03, 3.1274e-03, 4.4983e-03,\n",
            "        5.0454e-03, 5.7480e-03, 1.0083e-02, 1.0601e-02, 1.1969e-02, 2.7337e-02,\n",
            "        3.1346e-02, 4.1667e-02, 4.5621e-02, 5.1983e-02, 7.0786e-02, 7.3835e-02,\n",
            "        1.2087e-01, 1.9580e-01, 2.3031e-01, 2.5397e-01, 3.1732e-01, 3.6262e-01,\n",
            "        4.2684e-01, 4.4457e-01, 4.5509e-01, 5.1373e-01, 5.4138e-01, 5.6343e-01,\n",
            "        6.1930e-01, 6.2061e-01, 6.3029e-01, 6.8637e-01, 7.9162e-01, 8.5111e-01,\n",
            "        8.9477e-01, 9.3413e-01, 9.7125e-01, 9.8510e-01, 9.8839e-01, 9.9012e-01,\n",
            "        9.9419e-01, 9.9512e-01, 9.9687e-01, 9.9793e-01, 9.9807e-01, 9.9897e-01,\n",
            "        9.9905e-01, 9.9915e-01, 9.9966e-01, 9.9972e-01, 9.9980e-01, 9.9983e-01,\n",
            "        9.9985e-01, 9.9988e-01, 9.9991e-01, 9.9995e-01, 9.9995e-01, 9.9996e-01,\n",
            "        9.9997e-01, 9.9997e-01, 9.9998e-01, 9.9999e-01, 9.9999e-01, 1.0000e+00,\n",
            "        1.0000e+00, 1.0000e+00, 1.0000e+00, 1.0000e+00, 1.0000e+00, 1.0000e+00,\n",
            "        1.0000e+00, 1.0000e+00, 1.0000e+00, 1.0000e+00])\n"
          ]
        }
      ],
      "source": [
        "print(torch.sigmoid(x))"
      ]
    },
    {
      "cell_type": "code",
      "execution_count": 9,
      "metadata": {
        "colab": {
          "base_uri": "https://localhost:8080/",
          "height": 265
        },
        "id": "gzpQ6D5qlBYH",
        "outputId": "33646c22-f323-4825-a171-f35ffbaf6f8f"
      },
      "outputs": [
        {
          "output_type": "display_data",
          "data": {
            "text/plain": [
              "<Figure size 432x288 with 1 Axes>"
            ],
            "image/png": "[encoded data removed]"
          },
          "metadata": {
            "needs_background": "light"
          }
        }
      ],
      "source": [
        "plt.plot(x.numpy(), torch.sigmoid(x).numpy())\n",
        "plt.show()"
      ]
    },
    {
      "cell_type": "markdown",
      "metadata": {
        "id": "WoiS0PkrlBYK"
      },
      "source": [
        "## Hypoerbolic Tangent (TanH)\n",
        "\n",
        "$$\n",
        "\\text{tanh}(x)=\\frac{e^x-e^{-x}}{e^x+e^{-x}}\n",
        "$$"
      ]
    },
    {
      "cell_type": "code",
      "execution_count": 10,
      "metadata": {
        "colab": {
          "base_uri": "https://localhost:8080/"
        },
        "id": "JMxTkZBOlBYL",
        "outputId": "0f879c3a-d206-403b-844b-e83d52c17d71"
      },
      "outputs": [
        {
          "output_type": "stream",
          "name": "stdout",
          "text": [
            "tensor([-1.0000, -1.0000, -1.0000, -1.0000, -1.0000, -1.0000, -1.0000, -1.0000,\n",
            "        -1.0000, -1.0000, -1.0000, -1.0000, -1.0000, -1.0000, -1.0000, -1.0000,\n",
            "        -1.0000, -1.0000, -1.0000, -1.0000, -1.0000, -1.0000, -1.0000, -1.0000,\n",
            "        -1.0000, -1.0000, -1.0000, -1.0000, -1.0000, -1.0000, -0.9999, -0.9999,\n",
            "        -0.9998, -0.9998, -0.9997, -0.9984, -0.9979, -0.9962, -0.9954, -0.9940,\n",
            "        -0.9885, -0.9874, -0.9629, -0.8881, -0.8356, -0.7923, -0.6447, -0.5109,\n",
            "        -0.2865, -0.2190, -0.1782,  0.0549,  0.1644,  0.2497,  0.4515,  0.4559,\n",
            "         0.4880,  0.6545,  0.8704,  0.9406,  0.9727,  0.9901,  0.9982,  0.9995,\n",
            "         0.9997,  0.9998,  0.9999,  1.0000,  1.0000,  1.0000,  1.0000,  1.0000,\n",
            "         1.0000,  1.0000,  1.0000,  1.0000,  1.0000,  1.0000,  1.0000,  1.0000,\n",
            "         1.0000,  1.0000,  1.0000,  1.0000,  1.0000,  1.0000,  1.0000,  1.0000,\n",
            "         1.0000,  1.0000,  1.0000,  1.0000,  1.0000,  1.0000,  1.0000,  1.0000,\n",
            "         1.0000,  1.0000,  1.0000,  1.0000])\n"
          ]
        }
      ],
      "source": [
        "act = nn.Tanh()\n",
        "print(act(x))"
      ]
    },
    {
      "cell_type": "code",
      "execution_count": 11,
      "metadata": {
        "colab": {
          "base_uri": "https://localhost:8080/"
        },
        "id": "wxV4PD1VlBYM",
        "outputId": "9b648f53-0920-4525-a4cd-0235acf6976d"
      },
      "outputs": [
        {
          "output_type": "stream",
          "name": "stdout",
          "text": [
            "tensor([-1.0000, -1.0000, -1.0000, -1.0000, -1.0000, -1.0000, -1.0000, -1.0000,\n",
            "        -1.0000, -1.0000, -1.0000, -1.0000, -1.0000, -1.0000, -1.0000, -1.0000,\n",
            "        -1.0000, -1.0000, -1.0000, -1.0000, -1.0000, -1.0000, -1.0000, -1.0000,\n",
            "        -1.0000, -1.0000, -1.0000, -1.0000, -1.0000, -1.0000, -0.9999, -0.9999,\n",
            "        -0.9998, -0.9998, -0.9997, -0.9984, -0.9979, -0.9962, -0.9954, -0.9940,\n",
            "        -0.9885, -0.9874, -0.9629, -0.8881, -0.8356, -0.7923, -0.6447, -0.5109,\n",
            "        -0.2865, -0.2190, -0.1782,  0.0549,  0.1644,  0.2497,  0.4515,  0.4559,\n",
            "         0.4880,  0.6545,  0.8704,  0.9406,  0.9727,  0.9901,  0.9982,  0.9995,\n",
            "         0.9997,  0.9998,  0.9999,  1.0000,  1.0000,  1.0000,  1.0000,  1.0000,\n",
            "         1.0000,  1.0000,  1.0000,  1.0000,  1.0000,  1.0000,  1.0000,  1.0000,\n",
            "         1.0000,  1.0000,  1.0000,  1.0000,  1.0000,  1.0000,  1.0000,  1.0000,\n",
            "         1.0000,  1.0000,  1.0000,  1.0000,  1.0000,  1.0000,  1.0000,  1.0000,\n",
            "         1.0000,  1.0000,  1.0000,  1.0000])\n"
          ]
        }
      ],
      "source": [
        "print(torch.tanh(x))"
      ]
    },
    {
      "cell_type": "code",
      "execution_count": 12,
      "metadata": {
        "colab": {
          "base_uri": "https://localhost:8080/",
          "height": 265
        },
        "id": "xQGgROBllBYM",
        "outputId": "9180b873-8183-451c-d206-7bd0ab8192f8"
      },
      "outputs": [
        {
          "output_type": "display_data",
          "data": {
            "text/plain": [
              "<Figure size 432x288 with 1 Axes>"
            ],
            "image/png": "[encoded data removed]"
          },
          "metadata": {
            "needs_background": "light"
          }
        }
      ],
      "source": [
        "plt.plot(x.numpy(), torch.tanh(x).numpy())\n",
        "plt.show()"
      ]
    },
    {
      "cell_type": "code",
      "source": [],
      "metadata": {
        "id": "w-CzT75YmEAc"
      },
      "execution_count": null,
      "outputs": []
    }
  ],
  "metadata": {
    "kernelspec": {
      "display_name": "Python 3",
      "language": "python",
      "name": "python3"
    },
    "language_info": {
      "codemirror_mode": {
        "name": "ipython",
        "version": 3
      },
      "file_extension": ".py",
      "mimetype": "text/x-python",
      "name": "python",
      "nbconvert_exporter": "python",
      "pygments_lexer": "ipython3",
      "version": "3.7.6"
    },
    "colab": {
      "provenance": [],
      "include_colab_link": true
    }
  },
  "nbformat": 4,
  "nbformat_minor": 0
}