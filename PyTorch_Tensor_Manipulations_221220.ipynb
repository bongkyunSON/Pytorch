{
  "cells": [
    {
      "cell_type": "markdown",
      "metadata": {
        "id": "view-in-github",
        "colab_type": "text"
      },
      "source": [
        "<a href=\"https://colab.research.google.com/github/bongkyunSON/Pytorch/blob/main/PyTorch_Tensor_Manipulations_221220.ipynb\" target=\"_parent\"><img src=\"https://colab.research.google.com/assets/colab-badge.svg\" alt=\"Open In Colab\"/></a>"
      ]
    },
    {
      "cell_type": "markdown",
      "metadata": {
        "id": "_wX1UwnlQbwL"
      },
      "source": [
        "# PyTorch Tensor Manipulations"
      ]
    },
    {
      "cell_type": "code",
      "execution_count": 1,
      "metadata": {
        "id": "jbI0EdsBQbwO"
      },
      "outputs": [],
      "source": [
        "import torch"
      ]
    },
    {
      "cell_type": "markdown",
      "metadata": {
        "id": "fMYxYsY8QbwR"
      },
      "source": [
        "## Tensor Shaping\n",
        "\n",
        "### reshape: Change Tensor Shape"
      ]
    },
    {
      "cell_type": "code",
      "execution_count": 2,
      "metadata": {
        "colab": {
          "base_uri": "https://localhost:8080/"
        },
        "id": "KEUVWGCqQbwS",
        "outputId": "cc49bafc-e883-4149-87e4-ccf662572a3b"
      },
      "outputs": [
        {
          "output_type": "stream",
          "name": "stdout",
          "text": [
            "torch.Size([3, 2, 2])\n"
          ]
        }
      ],
      "source": [
        "x = torch.FloatTensor([[[1, 2],\n",
        "                        [3, 4]],\n",
        "                       [[5, 6],\n",
        "                        [7, 8]],\n",
        "                       [[9, 10],\n",
        "                        [11, 12]]])\n",
        "\n",
        "print(x.size())"
      ]
    },
    {
      "cell_type": "code",
      "execution_count": 3,
      "metadata": {
        "colab": {
          "base_uri": "https://localhost:8080/"
        },
        "id": "7hTvsV9eQbwU",
        "outputId": "fbf91d5d-0f07-46b0-edfd-e91061332b66"
      },
      "outputs": [
        {
          "output_type": "stream",
          "name": "stdout",
          "text": [
            "tensor([ 1.,  2.,  3.,  4.,  5.,  6.,  7.,  8.,  9., 10., 11., 12.])\n",
            "tensor([ 1.,  2.,  3.,  4.,  5.,  6.,  7.,  8.,  9., 10., 11., 12.])\n"
          ]
        }
      ],
      "source": [
        "print(x.reshape(12)) # 12 = 3 * 2 * 2\n",
        "print(x.reshape(-1))"
      ]
    },
    {
      "cell_type": "code",
      "execution_count": 8,
      "metadata": {
        "colab": {
          "base_uri": "https://localhost:8080/"
        },
        "id": "KccySPVHQbwV",
        "outputId": "14d91988-6bf3-4a4b-c5f6-6d06571680ee"
      },
      "outputs": [
        {
          "output_type": "stream",
          "name": "stdout",
          "text": [
            "tensor([[ 1.,  2.,  3.,  4.],\n",
            "        [ 5.,  6.,  7.,  8.],\n",
            "        [ 9., 10., 11., 12.]])\n",
            "tensor([[ 1.,  2.,  3.,  4.],\n",
            "        [ 5.,  6.,  7.,  8.],\n",
            "        [ 9., 10., 11., 12.]])\n"
          ]
        }
      ],
      "source": [
        "print(x.reshape(3, 4)) # 3 * 4 = 3 * 2 * 2\n",
        "print(x.reshape(3, -1))"
      ]
    },
    {
      "cell_type": "code",
      "execution_count": 9,
      "metadata": {
        "colab": {
          "base_uri": "https://localhost:8080/"
        },
        "id": "xr3jxLGyQbwW",
        "outputId": "4c06c271-21f4-47f8-e292-0179f00116b0"
      },
      "outputs": [
        {
          "output_type": "stream",
          "name": "stdout",
          "text": [
            "tensor([[[ 1.,  2.,  3.,  4.]],\n",
            "\n",
            "        [[ 5.,  6.,  7.,  8.]],\n",
            "\n",
            "        [[ 9., 10., 11., 12.]]])\n",
            "tensor([[[ 1.,  2.,  3.,  4.]],\n",
            "\n",
            "        [[ 5.,  6.,  7.,  8.]],\n",
            "\n",
            "        [[ 9., 10., 11., 12.]]])\n"
          ]
        }
      ],
      "source": [
        "print(x.reshape(3, 1, 4))\n",
        "print(x.reshape(-1, 1, 4))"
      ]
    },
    {
      "cell_type": "code",
      "execution_count": 10,
      "metadata": {
        "scrolled": true,
        "colab": {
          "base_uri": "https://localhost:8080/"
        },
        "id": "sx1B_GgcQbwX",
        "outputId": "2a9ceb2b-5b32-4bf5-cd93-18687cc1e943"
      },
      "outputs": [
        {
          "output_type": "stream",
          "name": "stdout",
          "text": [
            "tensor([[[[ 1.],\n",
            "          [ 2.]],\n",
            "\n",
            "         [[ 3.],\n",
            "          [ 4.]]],\n",
            "\n",
            "\n",
            "        [[[ 5.],\n",
            "          [ 6.]],\n",
            "\n",
            "         [[ 7.],\n",
            "          [ 8.]]],\n",
            "\n",
            "\n",
            "        [[[ 9.],\n",
            "          [10.]],\n",
            "\n",
            "         [[11.],\n",
            "          [12.]]]])\n"
          ]
        }
      ],
      "source": [
        "print(x.reshape(3, 2, 2, 1))"
      ]
    },
    {
      "cell_type": "markdown",
      "metadata": {
        "id": "w5F3lCC3QbwX"
      },
      "source": [
        "You can use 'view()' instead of 'reshape()' in some cases.\n",
        "\n",
        "- https://pytorch.org/docs/stable/tensor_view.html\n",
        "- https://pytorch.org/docs/stable/tensors.html?highlight=view#torch.Tensor.view"
      ]
    },
    {
      "cell_type": "markdown",
      "metadata": {
        "id": "XU_7kkmFQbwY"
      },
      "source": [
        "### squeeze: Remove dimension which has only one element."
      ]
    },
    {
      "cell_type": "code",
      "execution_count": 11,
      "metadata": {
        "colab": {
          "base_uri": "https://localhost:8080/"
        },
        "id": "KEhyQsp6QbwZ",
        "outputId": "4fc80e49-02d9-4bda-b46d-f46555039e5d"
      },
      "outputs": [
        {
          "output_type": "stream",
          "name": "stdout",
          "text": [
            "torch.Size([1, 2, 2])\n"
          ]
        }
      ],
      "source": [
        "x = torch.FloatTensor([[[1, 2],\n",
        "                        [3, 4]]])\n",
        "print(x.size())"
      ]
    },
    {
      "cell_type": "markdown",
      "metadata": {
        "id": "sJryWTzVQbwb"
      },
      "source": [
        "Remove any dimension which has only one element."
      ]
    },
    {
      "cell_type": "code",
      "execution_count": 12,
      "metadata": {
        "colab": {
          "base_uri": "https://localhost:8080/"
        },
        "id": "lUcKW1nZQbwb",
        "outputId": "ee993d31-2bc4-461e-ce7d-fcd5fb1df531"
      },
      "outputs": [
        {
          "output_type": "stream",
          "name": "stdout",
          "text": [
            "tensor([[1., 2.],\n",
            "        [3., 4.]])\n",
            "torch.Size([2, 2])\n"
          ]
        }
      ],
      "source": [
        "print(x.squeeze())\n",
        "print(x.squeeze().size())"
      ]
    },
    {
      "cell_type": "markdown",
      "metadata": {
        "id": "Qy7p7CyLQbwc"
      },
      "source": [
        "Remove certain dimension, if it has only one element.\n",
        "If it is not, there would be no change."
      ]
    },
    {
      "cell_type": "code",
      "execution_count": 13,
      "metadata": {
        "scrolled": true,
        "colab": {
          "base_uri": "https://localhost:8080/"
        },
        "id": "yScqW-K4Qbwc",
        "outputId": "62a326b4-455a-4981-9751-92b949141682"
      },
      "outputs": [
        {
          "output_type": "stream",
          "name": "stdout",
          "text": [
            "torch.Size([2, 2])\n",
            "torch.Size([1, 2, 2])\n"
          ]
        }
      ],
      "source": [
        "print(x.squeeze(0).size())\n",
        "print(x.squeeze(1).size())"
      ]
    },
    {
      "cell_type": "markdown",
      "metadata": {
        "id": "aJsdhFyHQbwc"
      },
      "source": [
        "### unsqueeze: Insert dimension at certain index."
      ]
    },
    {
      "cell_type": "code",
      "execution_count": 14,
      "metadata": {
        "colab": {
          "base_uri": "https://localhost:8080/"
        },
        "id": "rLnQ1tiMQbwd",
        "outputId": "f88689a6-5107-4c9e-9459-95adf414add5"
      },
      "outputs": [
        {
          "output_type": "stream",
          "name": "stdout",
          "text": [
            "torch.Size([2, 2])\n"
          ]
        }
      ],
      "source": [
        "x = torch.FloatTensor([[1, 2],\n",
        "                       [3, 4]])\n",
        "print(x.size())"
      ]
    },
    {
      "cell_type": "code",
      "execution_count": 15,
      "metadata": {
        "colab": {
          "base_uri": "https://localhost:8080/"
        },
        "id": "VGwKN6jhQbwd",
        "outputId": "32b4e1aa-ee21-4693-8d67-65e46f27d6d1"
      },
      "outputs": [
        {
          "output_type": "stream",
          "name": "stdout",
          "text": [
            "tensor([[[1.],\n",
            "         [2.]],\n",
            "\n",
            "        [[3.],\n",
            "         [4.]]])\n",
            "tensor([[[1.],\n",
            "         [2.]],\n",
            "\n",
            "        [[3.],\n",
            "         [4.]]])\n",
            "tensor([[[1.],\n",
            "         [2.]],\n",
            "\n",
            "        [[3.],\n",
            "         [4.]]])\n"
          ]
        }
      ],
      "source": [
        "print(x.unsqueeze(2))\n",
        "print(x.unsqueeze(-1))\n",
        "print(x.reshape(2, 2, -1))"
      ]
    }
  ],
  "metadata": {
    "kernelspec": {
      "display_name": "Python 3",
      "language": "python",
      "name": "python3"
    },
    "language_info": {
      "codemirror_mode": {
        "name": "ipython",
        "version": 3
      },
      "file_extension": ".py",
      "mimetype": "text/x-python",
      "name": "python",
      "nbconvert_exporter": "python",
      "pygments_lexer": "ipython3",
      "version": "3.7.6"
    },
    "colab": {
      "provenance": [],
      "include_colab_link": true
    }
  },
  "nbformat": 4,
  "nbformat_minor": 0
}